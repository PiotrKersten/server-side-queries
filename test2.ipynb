{
 "cells": [
  {
   "cell_type": "code",
   "execution_count": 1,
   "metadata": {},
   "outputs": [],
   "source": [
    "import pandas as pd\n",
    "import numpy as np\n",
    "import psycopg2\n",
    "from datetime import datetime\n",
    "import json"
   ]
  },
  {
   "cell_type": "markdown",
   "metadata": {},
   "source": [
    "### Db connection"
   ]
  },
  {
   "cell_type": "code",
   "execution_count": 2,
   "metadata": {},
   "outputs": [],
   "source": [
    "idMap = {\n",
    "    \"4gBLwNljLBlc0oYpBdpGkD\" : \"ht_wp_1_id\",\n",
    "    \"475wGcmfSE0L1wguboGfpW\": \"ht_wp_2_id\",\n",
    "    \"43wZIInlpD6YFsEc8TkwlN\": \"weather\",\n",
    "    \"30cjCSTbgsokSNalNoBbJh\": \"energie_prijs\"\n",
    "}\n",
    "\n",
    "id_keys = list(idMap.keys())\n",
    "id_names = list(idMap.values())\n",
    "\n",
    "attribute_names = [\n",
    "    'energyImportTotal',\n",
    "    'temperature',\n",
    "    'energy',\n",
    "    'currentPrice'\n",
    "]\n",
    "batch_size = 500000\n",
    "\n",
    "conn = psycopg2.connect(\n",
    "    host=\"ec2-63-35-201-247.eu-west-1.compute.amazonaws.com\",\n",
    "    port=\"5432\",\n",
    "    user=\"postgres\",\n",
    "    password=\"Be6DkBT9FfY7CQ2vtj3Lpr6Wzqxax9\",\n",
    "    database=\"openremote\"\n",
    ")\n",
    "\n",
    "\n",
    "cur = conn.cursor()"
   ]
  },
  {
   "cell_type": "markdown",
   "metadata": {},
   "source": [
    "### Procedure "
   ]
  },
  {
   "cell_type": "markdown",
   "metadata": {},
   "source": [
    "process_asset_datapoints_proc\n",
    "\n",
    "BEGIN\n",
    "    OPEN result_set FOR\n",
    "        SELECT \n",
    "            ad.timestamp AS data_timestamp,  \n",
    "            ad.entity_id::text, \n",
    "            ad.attribute_name::text,  \n",
    "            ad.value::text  \n",
    "        FROM asset_datapoint ad\n",
    "        WHERE ad.entity_id = ANY(id_keys)  \n",
    "        AND ad.attribute_name = ANY(attribute_names)  \n",
    "        ORDER BY ad.timestamp;\n",
    "END;\n"
   ]
  },
  {
   "cell_type": "markdown",
   "metadata": {},
   "source": [
    "### Procedure description"
   ]
  },
  {
   "cell_type": "markdown",
   "metadata": {},
   "source": [
    "Procedure process data without making pivots. Further process is required."
   ]
  },
  {
   "cell_type": "code",
   "execution_count": 3,
   "metadata": {},
   "outputs": [],
   "source": [
    "def get_total_rows():\n",
    "    query = f\"\"\"\n",
    "    SELECT COUNT(*) FROM asset_datapoint \n",
    "     WHERE entity_id IN ({', '.join(\"'\" + id + \"'\" for id in idMap.keys())})\n",
    "    AND attribute_name IN ({', '.join(\"'\" + id + \"'\" for id in attribute_names)})\n",
    "    \"\"\"\n",
    "    cur.execute(query)\n",
    "    total_rows = cur.fetchone()[0]\n",
    "    return total_rows"
   ]
  },
  {
   "cell_type": "code",
   "execution_count": 4,
   "metadata": {},
   "outputs": [
    {
     "name": "stdout",
     "output_type": "stream",
     "text": [
      "Total rows to process: 560543\n"
     ]
    }
   ],
   "source": [
    "# Get the total number of rows\n",
    "total_rows = get_total_rows()\n",
    "print(f\"Total rows to process: {total_rows}\")\n",
    "\n",
    "# Calculate the number of batches\n",
    "num_batches = (total_rows + batch_size - 1) // batch_size"
   ]
  },
  {
   "cell_type": "markdown",
   "metadata": {},
   "source": [
    "### Batch processing"
   ]
  },
  {
   "cell_type": "code",
   "execution_count": 5,
   "metadata": {},
   "outputs": [
    {
     "name": "stdout",
     "output_type": "stream",
     "text": [
      "Processing batch 1: OFFSET 0\n",
      "Processing batch 2: OFFSET 500000\n"
     ]
    }
   ],
   "source": [
    "processed_batches = []\n",
    "columns = ['timestamp', 'entity_id', 'attribute_name', 'value']\n",
    "\n",
    "query = \"\"\"\n",
    "SELECT * \n",
    "FROM process_asset_datapoints_v2(\n",
    "    %s::text[],  \n",
    "    %s::text[], \n",
    "    %s,  \n",
    "    %s \n",
    ");\n",
    "\"\"\"\n",
    "\n",
    "for i in range(num_batches):\n",
    "    offset = i * batch_size\n",
    "    print(f\"Processing batch {i + 1}: OFFSET {offset}\")\n",
    "    \n",
    "    cur.execute(query, (id_keys, attribute_names, batch_size, offset))\n",
    "    \n",
    "    rows = cur.fetchall()\n",
    "    df = pd.DataFrame(rows, columns=columns)\n",
    "\n",
    "    processed_batches.append(df)\n",
    "\n",
    "\n",
    "cur.close()\n",
    "conn.close()\n",
    "\n",
    "processed_data = pd.concat(processed_batches)"
   ]
  },
  {
   "cell_type": "code",
   "execution_count": 6,
   "metadata": {},
   "outputs": [
    {
     "data": {
      "text/html": [
       "<div>\n",
       "<style scoped>\n",
       "    .dataframe tbody tr th:only-of-type {\n",
       "        vertical-align: middle;\n",
       "    }\n",
       "\n",
       "    .dataframe tbody tr th {\n",
       "        vertical-align: top;\n",
       "    }\n",
       "\n",
       "    .dataframe thead th {\n",
       "        text-align: right;\n",
       "    }\n",
       "</style>\n",
       "<table border=\"1\" class=\"dataframe\">\n",
       "  <thead>\n",
       "    <tr style=\"text-align: right;\">\n",
       "      <th></th>\n",
       "      <th>timestamp</th>\n",
       "      <th>entity_id</th>\n",
       "      <th>attribute_name</th>\n",
       "      <th>value</th>\n",
       "    </tr>\n",
       "  </thead>\n",
       "  <tbody>\n",
       "    <tr>\n",
       "      <th>0</th>\n",
       "      <td>2023-12-16 00:00:01.870</td>\n",
       "      <td>30cjCSTbgsokSNalNoBbJh</td>\n",
       "      <td>currentPrice</td>\n",
       "      <td>67.19999694824219</td>\n",
       "    </tr>\n",
       "    <tr>\n",
       "      <th>1</th>\n",
       "      <td>2023-12-16 00:00:01.877</td>\n",
       "      <td>30cjCSTbgsokSNalNoBbJh</td>\n",
       "      <td>currentPrice</td>\n",
       "      <td>75.16</td>\n",
       "    </tr>\n",
       "    <tr>\n",
       "      <th>2</th>\n",
       "      <td>2023-12-16 01:00:00.235</td>\n",
       "      <td>30cjCSTbgsokSNalNoBbJh</td>\n",
       "      <td>currentPrice</td>\n",
       "      <td>55.64</td>\n",
       "    </tr>\n",
       "    <tr>\n",
       "      <th>3</th>\n",
       "      <td>2023-12-16 02:00:01.620</td>\n",
       "      <td>30cjCSTbgsokSNalNoBbJh</td>\n",
       "      <td>currentPrice</td>\n",
       "      <td>56.0</td>\n",
       "    </tr>\n",
       "    <tr>\n",
       "      <th>4</th>\n",
       "      <td>2023-12-16 03:00:01.894</td>\n",
       "      <td>30cjCSTbgsokSNalNoBbJh</td>\n",
       "      <td>currentPrice</td>\n",
       "      <td>58.0</td>\n",
       "    </tr>\n",
       "  </tbody>\n",
       "</table>\n",
       "</div>"
      ],
      "text/plain": [
       "                timestamp               entity_id attribute_name  \\\n",
       "0 2023-12-16 00:00:01.870  30cjCSTbgsokSNalNoBbJh   currentPrice   \n",
       "1 2023-12-16 00:00:01.877  30cjCSTbgsokSNalNoBbJh   currentPrice   \n",
       "2 2023-12-16 01:00:00.235  30cjCSTbgsokSNalNoBbJh   currentPrice   \n",
       "3 2023-12-16 02:00:01.620  30cjCSTbgsokSNalNoBbJh   currentPrice   \n",
       "4 2023-12-16 03:00:01.894  30cjCSTbgsokSNalNoBbJh   currentPrice   \n",
       "\n",
       "               value  \n",
       "0  67.19999694824219  \n",
       "1              75.16  \n",
       "2              55.64  \n",
       "3               56.0  \n",
       "4               58.0  "
      ]
     },
     "execution_count": 6,
     "metadata": {},
     "output_type": "execute_result"
    }
   ],
   "source": [
    "processed_data.head()"
   ]
  },
  {
   "cell_type": "code",
   "execution_count": 7,
   "metadata": {},
   "outputs": [
    {
     "data": {
      "text/html": [
       "<div>\n",
       "<style scoped>\n",
       "    .dataframe tbody tr th:only-of-type {\n",
       "        vertical-align: middle;\n",
       "    }\n",
       "\n",
       "    .dataframe tbody tr th {\n",
       "        vertical-align: top;\n",
       "    }\n",
       "\n",
       "    .dataframe thead th {\n",
       "        text-align: right;\n",
       "    }\n",
       "</style>\n",
       "<table border=\"1\" class=\"dataframe\">\n",
       "  <thead>\n",
       "    <tr style=\"text-align: right;\">\n",
       "      <th></th>\n",
       "      <th>timestamp</th>\n",
       "    </tr>\n",
       "  </thead>\n",
       "  <tbody>\n",
       "    <tr>\n",
       "      <th>count</th>\n",
       "      <td>560543</td>\n",
       "    </tr>\n",
       "    <tr>\n",
       "      <th>mean</th>\n",
       "      <td>2024-07-28 16:46:33.310590464</td>\n",
       "    </tr>\n",
       "    <tr>\n",
       "      <th>min</th>\n",
       "      <td>2023-12-16 00:00:01.870000</td>\n",
       "    </tr>\n",
       "    <tr>\n",
       "      <th>25%</th>\n",
       "      <td>2024-05-08 16:47:20.997499904</td>\n",
       "    </tr>\n",
       "    <tr>\n",
       "      <th>50%</th>\n",
       "      <td>2024-07-09 03:47:02.708999936</td>\n",
       "    </tr>\n",
       "    <tr>\n",
       "      <th>75%</th>\n",
       "      <td>2024-10-20 09:30:20.141500160</td>\n",
       "    </tr>\n",
       "    <tr>\n",
       "      <th>max</th>\n",
       "      <td>2025-02-04 03:58:03.445000</td>\n",
       "    </tr>\n",
       "  </tbody>\n",
       "</table>\n",
       "</div>"
      ],
      "text/plain": [
       "                           timestamp\n",
       "count                         560543\n",
       "mean   2024-07-28 16:46:33.310590464\n",
       "min       2023-12-16 00:00:01.870000\n",
       "25%    2024-05-08 16:47:20.997499904\n",
       "50%    2024-07-09 03:47:02.708999936\n",
       "75%    2024-10-20 09:30:20.141500160\n",
       "max       2025-02-04 03:58:03.445000"
      ]
     },
     "execution_count": 7,
     "metadata": {},
     "output_type": "execute_result"
    }
   ],
   "source": [
    "processed_data.describe()"
   ]
  },
  {
   "cell_type": "markdown",
   "metadata": {},
   "source": [
    "### Pivot"
   ]
  },
  {
   "cell_type": "code",
   "execution_count": 8,
   "metadata": {},
   "outputs": [],
   "source": [
    "\n",
    "processed_data['entity_name'] = processed_data['entity_id'].map(idMap)\n",
    "processed_data['atributename_id'] = processed_data['entity_name'] + '_' + processed_data['attribute_name']\n",
    "\n",
    "df_res = processed_data.pivot_table(index='timestamp', columns='atributename_id', values='value', aggfunc='first')\n",
    "df_res = df_res.astype({col: 'float64' for col in df_res.select_dtypes(include=['object']).columns})\n",
    "df_res.reset_index(inplace=True)"
   ]
  },
  {
   "cell_type": "code",
   "execution_count": 9,
   "metadata": {},
   "outputs": [
    {
     "data": {
      "text/html": [
       "<div>\n",
       "<style scoped>\n",
       "    .dataframe tbody tr th:only-of-type {\n",
       "        vertical-align: middle;\n",
       "    }\n",
       "\n",
       "    .dataframe tbody tr th {\n",
       "        vertical-align: top;\n",
       "    }\n",
       "\n",
       "    .dataframe thead th {\n",
       "        text-align: right;\n",
       "    }\n",
       "</style>\n",
       "<table border=\"1\" class=\"dataframe\">\n",
       "  <thead>\n",
       "    <tr style=\"text-align: right;\">\n",
       "      <th>atributename_id</th>\n",
       "      <th>timestamp</th>\n",
       "      <th>energie_prijs_currentPrice</th>\n",
       "      <th>ht_wp_1_id_energyImportTotal</th>\n",
       "      <th>ht_wp_2_id_energyImportTotal</th>\n",
       "      <th>weather_temperature</th>\n",
       "    </tr>\n",
       "  </thead>\n",
       "  <tbody>\n",
       "    <tr>\n",
       "      <th>0</th>\n",
       "      <td>2023-12-16 00:00:01.870</td>\n",
       "      <td>67.199997</td>\n",
       "      <td>NaN</td>\n",
       "      <td>NaN</td>\n",
       "      <td>NaN</td>\n",
       "    </tr>\n",
       "    <tr>\n",
       "      <th>1</th>\n",
       "      <td>2023-12-16 00:00:01.877</td>\n",
       "      <td>75.160000</td>\n",
       "      <td>NaN</td>\n",
       "      <td>NaN</td>\n",
       "      <td>NaN</td>\n",
       "    </tr>\n",
       "    <tr>\n",
       "      <th>2</th>\n",
       "      <td>2023-12-16 01:00:00.235</td>\n",
       "      <td>55.640000</td>\n",
       "      <td>NaN</td>\n",
       "      <td>NaN</td>\n",
       "      <td>NaN</td>\n",
       "    </tr>\n",
       "    <tr>\n",
       "      <th>3</th>\n",
       "      <td>2023-12-16 02:00:01.620</td>\n",
       "      <td>56.000000</td>\n",
       "      <td>NaN</td>\n",
       "      <td>NaN</td>\n",
       "      <td>NaN</td>\n",
       "    </tr>\n",
       "    <tr>\n",
       "      <th>4</th>\n",
       "      <td>2023-12-16 03:00:01.894</td>\n",
       "      <td>58.000000</td>\n",
       "      <td>NaN</td>\n",
       "      <td>NaN</td>\n",
       "      <td>NaN</td>\n",
       "    </tr>\n",
       "  </tbody>\n",
       "</table>\n",
       "</div>"
      ],
      "text/plain": [
       "atributename_id               timestamp  energie_prijs_currentPrice  \\\n",
       "0               2023-12-16 00:00:01.870                   67.199997   \n",
       "1               2023-12-16 00:00:01.877                   75.160000   \n",
       "2               2023-12-16 01:00:00.235                   55.640000   \n",
       "3               2023-12-16 02:00:01.620                   56.000000   \n",
       "4               2023-12-16 03:00:01.894                   58.000000   \n",
       "\n",
       "atributename_id  ht_wp_1_id_energyImportTotal  ht_wp_2_id_energyImportTotal  \\\n",
       "0                                         NaN                           NaN   \n",
       "1                                         NaN                           NaN   \n",
       "2                                         NaN                           NaN   \n",
       "3                                         NaN                           NaN   \n",
       "4                                         NaN                           NaN   \n",
       "\n",
       "atributename_id  weather_temperature  \n",
       "0                                NaN  \n",
       "1                                NaN  \n",
       "2                                NaN  \n",
       "3                                NaN  \n",
       "4                                NaN  "
      ]
     },
     "execution_count": 9,
     "metadata": {},
     "output_type": "execute_result"
    }
   ],
   "source": [
    "df_res.head()"
   ]
  },
  {
   "cell_type": "code",
   "execution_count": 10,
   "metadata": {},
   "outputs": [
    {
     "data": {
      "text/html": [
       "<div>\n",
       "<style scoped>\n",
       "    .dataframe tbody tr th:only-of-type {\n",
       "        vertical-align: middle;\n",
       "    }\n",
       "\n",
       "    .dataframe tbody tr th {\n",
       "        vertical-align: top;\n",
       "    }\n",
       "\n",
       "    .dataframe thead th {\n",
       "        text-align: right;\n",
       "    }\n",
       "</style>\n",
       "<table border=\"1\" class=\"dataframe\">\n",
       "  <thead>\n",
       "    <tr style=\"text-align: right;\">\n",
       "      <th>atributename_id</th>\n",
       "      <th>timestamp</th>\n",
       "      <th>energie_prijs_currentPrice</th>\n",
       "      <th>ht_wp_1_id_energyImportTotal</th>\n",
       "      <th>ht_wp_2_id_energyImportTotal</th>\n",
       "      <th>weather_temperature</th>\n",
       "    </tr>\n",
       "  </thead>\n",
       "  <tbody>\n",
       "    <tr>\n",
       "      <th>count</th>\n",
       "      <td>510771</td>\n",
       "      <td>31296.000000</td>\n",
       "      <td>246876.000000</td>\n",
       "      <td>254895.000000</td>\n",
       "      <td>27476.000000</td>\n",
       "    </tr>\n",
       "    <tr>\n",
       "      <th>mean</th>\n",
       "      <td>2024-07-28 04:55:52.351399680</td>\n",
       "      <td>102.072550</td>\n",
       "      <td>189379.281161</td>\n",
       "      <td>311609.868197</td>\n",
       "      <td>13.015815</td>\n",
       "    </tr>\n",
       "    <tr>\n",
       "      <th>min</th>\n",
       "      <td>2023-12-16 00:00:01.870000</td>\n",
       "      <td>-200.000000</td>\n",
       "      <td>0.000000</td>\n",
       "      <td>0.000000</td>\n",
       "      <td>-3.370000</td>\n",
       "    </tr>\n",
       "    <tr>\n",
       "      <th>25%</th>\n",
       "      <td>2024-05-08 11:00:42.588999936</td>\n",
       "      <td>79.900000</td>\n",
       "      <td>174148.000000</td>\n",
       "      <td>297054.500000</td>\n",
       "      <td>7.290000</td>\n",
       "    </tr>\n",
       "    <tr>\n",
       "      <th>50%</th>\n",
       "      <td>2024-07-06 15:23:17.817999872</td>\n",
       "      <td>101.000000</td>\n",
       "      <td>184260.000000</td>\n",
       "      <td>310912.000000</td>\n",
       "      <td>13.700000</td>\n",
       "    </tr>\n",
       "    <tr>\n",
       "      <th>75%</th>\n",
       "      <td>2024-10-20 22:39:41.895000064</td>\n",
       "      <td>123.990000</td>\n",
       "      <td>201127.250000</td>\n",
       "      <td>325953.000000</td>\n",
       "      <td>18.220000</td>\n",
       "    </tr>\n",
       "    <tr>\n",
       "      <th>max</th>\n",
       "      <td>2025-02-04 03:58:03.445000</td>\n",
       "      <td>550.000000</td>\n",
       "      <td>232357.000000</td>\n",
       "      <td>354738.000000</td>\n",
       "      <td>32.290000</td>\n",
       "    </tr>\n",
       "    <tr>\n",
       "      <th>std</th>\n",
       "      <td>NaN</td>\n",
       "      <td>48.372422</td>\n",
       "      <td>18810.211377</td>\n",
       "      <td>21225.049924</td>\n",
       "      <td>6.990488</td>\n",
       "    </tr>\n",
       "  </tbody>\n",
       "</table>\n",
       "</div>"
      ],
      "text/plain": [
       "atributename_id                      timestamp  energie_prijs_currentPrice  \\\n",
       "count                                   510771                31296.000000   \n",
       "mean             2024-07-28 04:55:52.351399680                  102.072550   \n",
       "min                 2023-12-16 00:00:01.870000                 -200.000000   \n",
       "25%              2024-05-08 11:00:42.588999936                   79.900000   \n",
       "50%              2024-07-06 15:23:17.817999872                  101.000000   \n",
       "75%              2024-10-20 22:39:41.895000064                  123.990000   \n",
       "max                 2025-02-04 03:58:03.445000                  550.000000   \n",
       "std                                        NaN                   48.372422   \n",
       "\n",
       "atributename_id  ht_wp_1_id_energyImportTotal  ht_wp_2_id_energyImportTotal  \\\n",
       "count                           246876.000000                 254895.000000   \n",
       "mean                            189379.281161                 311609.868197   \n",
       "min                                  0.000000                      0.000000   \n",
       "25%                             174148.000000                 297054.500000   \n",
       "50%                             184260.000000                 310912.000000   \n",
       "75%                             201127.250000                 325953.000000   \n",
       "max                             232357.000000                 354738.000000   \n",
       "std                              18810.211377                  21225.049924   \n",
       "\n",
       "atributename_id  weather_temperature  \n",
       "count                   27476.000000  \n",
       "mean                       13.015815  \n",
       "min                        -3.370000  \n",
       "25%                         7.290000  \n",
       "50%                        13.700000  \n",
       "75%                        18.220000  \n",
       "max                        32.290000  \n",
       "std                         6.990488  "
      ]
     },
     "execution_count": 10,
     "metadata": {},
     "output_type": "execute_result"
    }
   ],
   "source": [
    "df_res.describe(include='all')"
   ]
  },
  {
   "cell_type": "code",
   "execution_count": 11,
   "metadata": {},
   "outputs": [
    {
     "name": "stdout",
     "output_type": "stream",
     "text": [
      "atributename_id\n",
      "timestamp                       datetime64[ns]\n",
      "energie_prijs_currentPrice             float64\n",
      "ht_wp_1_id_energyImportTotal           float64\n",
      "ht_wp_2_id_energyImportTotal           float64\n",
      "weather_temperature                    float64\n",
      "dtype: object\n"
     ]
    }
   ],
   "source": [
    "print(df_res.dtypes)"
   ]
  }
 ],
 "metadata": {
  "kernelspec": {
   "display_name": "Python 3",
   "language": "python",
   "name": "python3"
  },
  "language_info": {
   "codemirror_mode": {
    "name": "ipython",
    "version": 3
   },
   "file_extension": ".py",
   "mimetype": "text/x-python",
   "name": "python",
   "nbconvert_exporter": "python",
   "pygments_lexer": "ipython3",
   "version": "3.12.7"
  }
 },
 "nbformat": 4,
 "nbformat_minor": 2
}
